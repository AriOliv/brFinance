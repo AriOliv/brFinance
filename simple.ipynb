{
 "cells": [
  {
   "cell_type": "code",
   "execution_count": null,
   "metadata": {},
   "outputs": [],
   "source": [
    "import pandas as pd\n",
    "\n",
    "from brfinance import CVMAsyncBackend\n",
    "from brfinance.utils import get_enet_download_url\n",
    "\n",
    "from datetime import datetime, date\n",
    "\n",
    "\n",
    "cvm_httpclient = CVMAsyncBackend()"
   ]
  },
  {
   "cell_type": "code",
   "execution_count": null,
   "metadata": {},
   "outputs": [],
   "source": [
    "# Dict de códigos CVM para todas as empresas\n",
    "cvm_codes = cvm_httpclient.get_cvm_codes()\n",
    "display(cvm_codes)\n",
    "\n",
    "# Dict de todas as categorias de busca disponíveis (Fato relevante, DFP, ITR, etc.)\n",
    "categories = cvm_httpclient.get_consulta_externa_cvm_categories()\n",
    "display(categories)\n",
    "\n",
    "# Ditc tipos de participantes\n",
    "tipo_participante = cvm_httpclient.get_consulta_externa_cvm_tipo_participante()\n",
    "display(tipo_participante)"
   ]
  },
  {
   "cell_type": "code",
   "execution_count": null,
   "metadata": {},
   "outputs": [],
   "source": [
    "# Realizando busca por Empresa\n",
    "start_date = date(2021, 1, 1)\n",
    "end_date = date.today()\n",
    "cvm_codes_list = [21610] # B3\n",
    "category = [\"EST_3\",\"EST_4\",\"IPE_4_-1_-1\"] # Códigos de categoria para DFP, ITR e fatos relevantes\n",
    "last_ref_date = False # Se \"True\" retorna apenas o último report no intervalo de datas\n",
    "participant_type = [1] # Companhia aberta\n",
    "\n",
    "search_result = cvm_httpclient.get_consulta_externa_cvm_results(\n",
    "    start_date=start_date,\n",
    "    end_date=end_date,\n",
    "    cod_cvm=cvm_codes_list,\n",
    "    participant_type=participant_type,\n",
    "    category=category,\n",
    "    last_ref_date=last_ref_date\n",
    "    )\n",
    "display(search_result)"
   ]
  },
  {
   "cell_type": "code",
   "execution_count": null,
   "metadata": {},
   "outputs": [],
   "source": [
    "# Obter demonstrativos\n",
    "\n",
    "reports_list = [\n",
    "    'Balanço Patrimonial Ativo',\n",
    "    'Balanço Patrimonial Passivo',\n",
    "    'Demonstração do Resultado',\n",
    "    'Demonstração do Resultado Abrangente',\n",
    "    'Demonstração do Fluxo de Caixa',\n",
    "    'Demonstração das Mutações do Patrimônio Líquido',\n",
    "    'Demonstração de Valor Adicionado'] # Se None retorna todos os demonstrativos disponíveis.\n",
    "\n",
    "# Filtro search_result para ITR e DFP apenas\n",
    "search_result = search_result[\n",
    "    (search_result['categoria']==\"DFP - Demonstrações Financeiras Padronizadas\") |\n",
    "    (search_result['categoria']==\"ITR - Informações Trimestrais\")]\n",
    "\n",
    "search_result = search_result[pd.to_numeric(search_result['numero_seq_documento'], errors='coerce').notnull()]\n",
    "\n",
    "for index, row in search_result.iterrows():\n",
    "    empresa = f\"{row['cod_cvm']} - {cvm_codes[row['cod_cvm']]} - {row['numero_seq_documento']} - {row['codigo_tipo_instituicao']}\"\n",
    "    print(\"*\" * 20, empresa, \"*\" * 20)\n",
    "    \n",
    "    reports = cvm_httpclient.get_report(row[\"numero_seq_documento\"], row[\"codigo_tipo_instituicao\"], reports_list=reports_list)\n",
    "    for report in reports:\n",
    "        print(report)\n",
    "        reports[report][\"cod_cvm\"] = row[\"cod_cvm\"]\n",
    "        reports[report][\"ref_date\"] = row[\"ref_date\"]\n",
    "        reports[report][\"numSequencia\"] = row[\"numSequencia\"]\n",
    "        display(reports[report].head())\n",
    "        "
   ]
  }
 ],
 "metadata": {
  "kernelspec": {
   "display_name": "Python 3",
   "language": "python",
   "name": "python3"
  },
  "language_info": {
   "codemirror_mode": {
    "name": "ipython",
    "version": 3
   },
   "file_extension": ".py",
   "mimetype": "text/x-python",
   "name": "python",
   "nbconvert_exporter": "python",
   "pygments_lexer": "ipython3",
   "version": "3.10.2"
  },
  "toc": {
   "base_numbering": 1,
   "nav_menu": {},
   "number_sections": true,
   "sideBar": true,
   "skip_h1_title": false,
   "title_cell": "Table of Contents",
   "title_sidebar": "Contents",
   "toc_cell": false,
   "toc_position": {},
   "toc_section_display": true,
   "toc_window_display": false
  },
  "varInspector": {
   "cols": {
    "lenName": 16,
    "lenType": 16,
    "lenVar": 40
   },
   "kernels_config": {
    "python": {
     "delete_cmd_postfix": "",
     "delete_cmd_prefix": "del ",
     "library": "var_list.py",
     "varRefreshCmd": "print(var_dic_list())"
    },
    "r": {
     "delete_cmd_postfix": ") ",
     "delete_cmd_prefix": "rm(",
     "library": "var_list.r",
     "varRefreshCmd": "cat(var_dic_list()) "
    }
   },
   "types_to_exclude": [
    "module",
    "function",
    "builtin_function_or_method",
    "instance",
    "_Feature"
   ],
   "window_display": false
  }
 },
 "nbformat": 4,
 "nbformat_minor": 2
}
