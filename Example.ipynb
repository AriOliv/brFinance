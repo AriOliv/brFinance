{
 "cells": [
  {
   "cell_type": "code",
   "execution_count": null,
   "id": "83b2b11b",
   "metadata": {},
   "outputs": [],
   "source": [
    "import brFinance"
   ]
  },
  {
   "cell_type": "code",
   "execution_count": null,
   "id": "0cb091c6",
   "metadata": {},
   "outputs": [],
   "source": [
    "# Instantiate object for Petrobras (Cod. CVM = 9512)\n",
    "petrobras = brf.Company(cod_cvm=9512)\n",
    "petrobras_reports = petrobras.reports"
   ]
  },
  {
   "cell_type": "code",
   "execution_count": null,
   "id": "ef25e7ad",
   "metadata": {},
   "outputs": [],
   "source": [
    "# Report reference date\n",
    "display(petrobras.reports)"
   ]
  },
  {
   "cell_type": "code",
   "execution_count": null,
   "id": "213630ac",
   "metadata": {},
   "outputs": [],
   "source": [
    "# Accessing Income Statement Dataframe (DRE - Demonstração do Resultado do Exercicio)\n"
   ]
  },
  {
   "cell_type": "code",
   "execution_count": null,
   "id": "66ee0d3b",
   "metadata": {},
   "outputs": [],
   "source": [
    "# Get list of Cod. CVM for each brazilian company (cod cvm is necessary to instantiate the Company object later)\n",
    "search_object = brf.SearchENET() # instantiate search object\n",
    "\n",
    "cod_cvm_result = search_object.cod_cvm_list() # Returns all the cod_cvm available\n",
    "display(cod_cvm_result)"
   ]
  },
  {
   "cell_type": "code",
   "execution_count": null,
   "id": "993ce771",
   "metadata": {},
   "outputs": [],
   "source": [
    "# Reports available by reference date\n",
    "for report in petrobras.reports:\n",
    "    print (\"Data de referência: \", report[\"ref_date\"])\n",
    "    print(\"Relatórios:\")\n",
    "    for key, value in report[\"reports\"].items():\n",
    "        print (key)\n",
    "    print(\"*\"*50)"
   ]
  },
  {
   "cell_type": "code",
   "execution_count": null,
   "id": "3c88b5f9",
   "metadata": {
    "scrolled": true
   },
   "outputs": [],
   "source": [
    "import pandas as pd\n",
    "from dateutil.relativedelta import relativedelta\n",
    "from datetime import date\n",
    "\n",
    "date1 = date(2021, 7, 12)\n",
    "print(date1 - relativedelta(months=3)- pd.tseries.offsets.DateOffset(day=1) + pd.tseries.offsets.QuarterEnd())\n"
   ]
  },
  {
   "cell_type": "code",
   "execution_count": null,
   "id": "6fd6f8e9",
   "metadata": {},
   "outputs": [],
   "source": [
    "import pandas as pd\n",
    "from dateutil.relativedelta import relativedelta\n",
    "from datetime import date\n",
    "\n",
    "class Dates:\n",
    "    def __init__(self, _date: date):\n",
    "        self.date = _date\n",
    "    \n",
    "    @property\n",
    "    def previous_quarter_end_date(self) -> date:\n",
    "        return self.date - relativedelta(months=3) - pd.tseries.offsets.DateOffset(day=1) + pd.tseries.offsets.QuarterEnd()\n",
    "\n",
    "print(type(Dates(date(2021, 7, 12)).previous_quarter_end_date))"
   ]
  },
  {
   "cell_type": "code",
   "execution_count": null,
   "id": "4be34a62",
   "metadata": {},
   "outputs": [],
   "source": [
    "!pip install git+git://github.com/eudesrodrigo/brFinance"
   ]
  },
  {
   "cell_type": "code",
   "execution_count": null,
   "id": "ea3267c5",
   "metadata": {},
   "outputs": [],
   "source": [
    "url = \"https://www.rad.cvm.gov.br/ENET/frmGerenciaPaginaFRE.aspx?NumeroSequencialDocumento=83042&CodigoTipoInstituicao=1\"\n",
    "document_number = url.extract(r\"(?<=\\')(.*?)(?=\\')\", expand=False)\n",
    "print(document_number)"
   ]
  },
  {
   "cell_type": "code",
   "execution_count": null,
   "id": "3f37edde",
   "metadata": {},
   "outputs": [],
   "source": [
    "! pip freeze"
   ]
  },
  {
   "cell_type": "code",
   "execution_count": null,
   "id": "f99d9866",
   "metadata": {},
   "outputs": [],
   "source": []
  }
 ],
 "metadata": {
  "kernelspec": {
   "display_name": "Python 3",
   "language": "python",
   "name": "python3"
  },
  "language_info": {
   "codemirror_mode": {
    "name": "ipython",
    "version": 3
   },
   "file_extension": ".py",
   "mimetype": "text/x-python",
   "name": "python",
   "nbconvert_exporter": "python",
   "pygments_lexer": "ipython3",
   "version": "3.8.8"
  }
 },
 "nbformat": 4,
 "nbformat_minor": 5
}
